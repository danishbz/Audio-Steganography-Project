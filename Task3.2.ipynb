{
 "cells": [
  {
   "cell_type": "markdown",
   "id": "7f34baa8-faad-4f16-9cd5-6fe25fa97446",
   "metadata": {},
   "source": [
    "# Task 3.2: Embedding Hidden Messages "
   ]
  },
  {
   "cell_type": "markdown",
   "id": "4617e603-ad54-488d-8665-4b5f3d98dc79",
   "metadata": {},
   "source": [
    "# START of code personally written without assistance"
   ]
  },
  {
   "cell_type": "markdown",
   "id": "660ee7a1-22bc-4a76-ac4e-da6af67eab19",
   "metadata": {},
   "source": [
    "This notebook conducts audio steganography using the least significant bit (LSB) method. It embeds hidden \n",
    "messages based on the LSB audio steganography method to embed the secret message ‘An \n",
    "eye for an eye makes the whole world blind’. It also includes an algorithm that performs the opposite operation"
   ]
  },
  {
   "cell_type": "markdown",
   "id": "2f096d35-b76a-4ab2-9154-f1e1b1913abf",
   "metadata": {},
   "source": [
    "## 1 Import Necessary Packages"
   ]
  },
  {
   "cell_type": "code",
   "execution_count": 1,
   "id": "5bffc39d-15c5-43e9-be2b-23a9080b5b23",
   "metadata": {},
   "outputs": [],
   "source": [
    "import wave"
   ]
  },
  {
   "cell_type": "markdown",
   "id": "c7a28f4e-ea5c-4c2f-9a1a-0d0bb82dd6ea",
   "metadata": {},
   "source": [
    "## 2 Define convert_Str_to_Bits Function\n",
    "\n",
    "Each character in the input string is transformed into its binary form. The binary representation is padded to ensure it is 8 bits long. A '#' character is appended to the message to indicate the end. The resulting binary string is converted into a list of integers (map object), effectively representing the binary bits of the input message plus the delimiter."
   ]
  },
  {
   "cell_type": "code",
   "execution_count": 2,
   "id": "1fb40c59-054d-40a5-957e-54b9ca3d3378",
   "metadata": {},
   "outputs": [],
   "source": [
    "def convert_Str_to_Bits(message: str) -> map:\n",
    "    \"\"\"\n",
    "    Converts a string into a list of bits.\n",
    "\n",
    "    The function transforms each character in the input string into its \n",
    "    binary representation and then returns these as a list of integers.\n",
    "\n",
    "    :param message: The string message to convert into bits.\n",
    "    :return: A map object containing integers representing the binary bits \n",
    "             of the input message plus a '#' character as a delimiter.\n",
    "    \"\"\"\n",
    "    # Append '#' to the message to signify the end\n",
    "    # Convert each character to its binary form and pad zeros to ensure 8 bits\n",
    "    # Join these binary strings and convert them to a map of integers\n",
    "    return map(int, \"\".join([bin(ord(char))[2:].rjust(8, '0') for char in message + '#']))"
   ]
  },
  {
   "cell_type": "markdown",
   "id": "0cc225e7-8ae7-45b0-be20-245f25d9b73e",
   "metadata": {},
   "source": [
    "## 3 Define merge_Frames_and_LSBs Function\n",
    "Encodes a hidden message into an audio file by manipulating the least significant bit (LSB) of each byte in the audio frames. The function iterates over each byte in frame_bytes alongside each bit in bits. It uses bitwise operations to replace the LSB of each audio byte with the corresponding bit from the message. This is achieved by using 0xFE (11111110 in binary) to mask out the current LSB from each audio byte and adding the LSB bit from the message to this masked byte using 0x1. It returns a new bytes object that represents the audio frames with the message bits embedded in their LSB positions."
   ]
  },
  {
   "cell_type": "code",
   "execution_count": 3,
   "id": "67f008dd-2c86-4112-a169-3f214d7fd5f7",
   "metadata": {},
   "outputs": [],
   "source": [
    "def merge_Frames_and_LSBs(frame_bytes: bytes, bits: map) -> bytes:\n",
    "    \"\"\"\n",
    "    Merges audio frame bytes with LSB bits from a message.\n",
    "\n",
    "    This function combines the least significant bit (LSB) of each byte in \n",
    "    the audio frames with the corresponding bit from the message, effectively\n",
    "    encoding the message into the audio file.\n",
    "\n",
    "    :param frame_bytes: The bytes of the audio frame to be modified.\n",
    "    :param bits: A map object containing the LSB bits to embed into the audio frames.\n",
    "    :return: A new bytes object representing the modified audio frames with the message embedded.\n",
    "    \"\"\"\n",
    "    # Create new bytes by replacing the LSB of each audio byte with the message bit\n",
    "    # 0xFE masks out the LSB of the frame byte, 0x1 masks the bit value\n",
    "    return bytes((0xFE & frame) + (0x1 & bit) for frame, bit in zip(frame_bytes, bits))"
   ]
  },
  {
   "cell_type": "markdown",
   "id": "ed14004f-7d2d-41ea-8bf4-4bfb71f85bb2",
   "metadata": {},
   "source": [
    "## 4 Define encode_File function\n",
    "Encodes a hidden message within the frames of an audio file, ensuring that the alteration is subtle and imperceptible during playback. The function opens the original audio file and retrieves its frame bytes and audio parameters, then converts the input message into a sequence of binary bits using the convert_Str_to_Bits function. It utilizes merge_Frames_and_LSBs to replace the LSBs of the audio frame bytes with the message bits, effectively embedding the message and writes the modified frame bytes to a new audio file with the specified new_filename, preserving the original audio parameters.\n"
   ]
  },
  {
   "cell_type": "code",
   "execution_count": 4,
   "id": "ad484f02-fca3-4e4d-b222-ad62d24b7786",
   "metadata": {},
   "outputs": [],
   "source": [
    "def encode_File(filename: str, message: str, new_filename: str) -> None:\n",
    "    \"\"\"\n",
    "    Encodes a message into an audio file using LSB steganography.\n",
    "\n",
    "    This function takes an input audio file and a message, then produces \n",
    "    a new audio file with the message embedded in its frames via LSB \n",
    "    (Least Significant Bit) manipulation.\n",
    "\n",
    "    :param filename: The name of the original audio file.\n",
    "    :param message: The message to encode into the audio file.\n",
    "    :param new_filename: The name for the new audio file with the hidden message.\n",
    "    \"\"\"\n",
    "    # Open the input audio file to read its frames and parameters\n",
    "    with wave.open(filename, mode='rb') as music:\n",
    "        frame_bytes = bytes(music.readframes(music.getnframes()))\n",
    "        music_params = music.getparams()\n",
    "\n",
    "    # Convert the message into bits\n",
    "    bits = convert_Str_to_Bits(message)\n",
    "    # Merge the message bits into the audio frames\n",
    "    new_frame_bytes = merge_Frames_and_LSBs(frame_bytes, bits)\n",
    "\n",
    "    # Write the modified frames to a new audio file\n",
    "    with wave.open(new_filename, 'wb') as music:\n",
    "        music.setparams(music_params)\n",
    "        music.writeframes(new_frame_bytes)"
   ]
  },
  {
   "cell_type": "markdown",
   "id": "0f237757-1471-4539-b37f-6a10cf7ced1c",
   "metadata": {},
   "source": [
    "## 5 Define extract_LSB_from_File Function\n",
    "The function opens the specified audio file in 'read binary' mode using the wave module. \n",
    "It reads all the frames of the audio file and converts them into bytes. \n",
    "Using a bitwise AND operation with 0x1, the function isolates the LSB from each byte of the audio frames.\n",
    "It returns a list of integers, each representing the LSB of a frame byte. \n",
    "This list can be used to decode any hidden message embedded using the LSB method.\n"
   ]
  },
  {
   "cell_type": "code",
   "execution_count": 5,
   "id": "ecb40c7e-5632-4495-bb3d-4bd4d401c70b",
   "metadata": {},
   "outputs": [],
   "source": [
    "def extract_LSB_from_File(filename: str) -> list:\n",
    "    \"\"\"\n",
    "    Extracts the least significant bits (LSBs) from an audio file.\n",
    "\n",
    "    :param filename: The name of the audio file to extract LSBs from.\n",
    "    :return: A list of integers representing the LSBs from the audio frames.\n",
    "    \"\"\"\n",
    "    with wave.open(filename, mode='rb') as music:\n",
    "        frame_bytes = bytes(music.readframes(music.getnframes()))\n",
    "    # Use bitwise AND to extract the LSB from each byte\n",
    "    return [frame_byte & 0x1 for frame_byte in frame_bytes]"
   ]
  },
  {
   "cell_type": "markdown",
   "id": "1921ee61-aa9c-4825-bce0-f4af521e0efa",
   "metadata": {},
   "source": [
    "## 6 Define merge_8Bits_to_Char Function\n",
    "The function first creates a binary string by joining the list of bits (bytes8) into a single string of '0's and '1's.\n",
    "The binary string is prefixed with '0b' to indicate that it is a binary number.\n",
    "The eval function converts this binary string into its equivalent integer, which is then transformed into a character using the chr function.\n",
    "The final character is returned, representing the input bits as a text character.\n",
    "This method is crucial in decoding messages hidden with the LSB method in audio steganography."
   ]
  },
  {
   "cell_type": "code",
   "execution_count": 6,
   "id": "2fefa003-b561-44fd-9a75-9a51a1a006cf",
   "metadata": {},
   "outputs": [],
   "source": [
    "def merge_8Bits_to_Char(bytes8: list) -> str:\n",
    "    \"\"\"\n",
    "    Converts a list of 8 bits into a character.\n",
    "\n",
    "    :param bytes8: A list of 8 bit integers.\n",
    "    :return: The character represented by the 8 bits.\n",
    "    \"\"\"\n",
    "    # Convert 8 bits into a binary string and then to a character\n",
    "    return chr(eval('0b' + \"\".join(map(str, bytes8))))"
   ]
  },
  {
   "cell_type": "markdown",
   "id": "a3233017-f809-4bc8-9b8d-7d77b13e7cfe",
   "metadata": {},
   "source": [
    "## 7 Define convert_LSB_Bytes_to_Chars Function\n",
    "The function starts by creating an empty list called chars to hold the decoded characters.\n",
    "The function then processes the input list lsb_bytes in chunks or sets of 8 bits, which correspond to one character. This is done using a list comprehension that slices the LSBs.\n",
    "For each 8-bit chunk, the function merge_8Bits_to_Char is used to convert these bits into a character.\n",
    "The process continues until it encounters the character '#', which serves as a delimiter marking the end of the hidden message.\n",
    "Finally, the function returns a list of characters that compose the hidden message extracted from the LSBs.\n"
   ]
  },
  {
   "cell_type": "code",
   "execution_count": 7,
   "id": "1ac83e64-28bf-4626-860a-67b1cad82083",
   "metadata": {},
   "outputs": [],
   "source": [
    "def convert_LSB_Bytes_to_Chars(lsb_bytes: list) -> list:\n",
    "    \"\"\"\n",
    "    Converts a list of LSB bytes into a list of characters.\n",
    "\n",
    "    :param lsb_bytes: A list of LSBs from which to extract characters.\n",
    "    :return: A list of characters extracted from the LSBs.\n",
    "    \"\"\"\n",
    "    chars = []\n",
    "    # Group bits into sets of 8, convert to char, and append to the char list\n",
    "    for bits8 in [lsb_bytes[i: i + 8] for i in range(0, len(lsb_bytes), 8)]:\n",
    "        each_char = merge_8Bits_to_Char(bits8)\n",
    "        # Stop when the delimiter '#' is encountered\n",
    "        if each_char != '#':\n",
    "            chars.append(each_char)\n",
    "        else:\n",
    "            break\n",
    "    return chars"
   ]
  },
  {
   "cell_type": "markdown",
   "id": "0db66250-6fe3-4cad-87d0-555d1fc9a374",
   "metadata": {},
   "source": [
    "## 8 Define decode_File Function\n",
    "The function calls the extract_LSB_from_File function to retrieve the LSBs from each byte of the specified audio file, filename. \n",
    "The extracted bits are then passed to the convert_LSB_Bytes_to_Chars function, which groups the bits into sets of 8, converting each set into a character to form a list of decoded characters.\n",
    "The list of characters is joined together into a single string, representing the decoded hidden message. \n",
    "Finally, the function returns this decoded string, which is the hidden message initially embedded within the audio file using LSB steganography techniques.\n"
   ]
  },
  {
   "cell_type": "code",
   "execution_count": 8,
   "id": "7b956e44-4d55-4767-a11c-b41e0107b0a2",
   "metadata": {},
   "outputs": [],
   "source": [
    "def decode_File(filename: str) -> str:\n",
    "    \"\"\"\n",
    "    Decodes a hidden message from an audio file.\n",
    "\n",
    "    :param filename: The name of the audio file to decode the message from.\n",
    "    :return: The decoded message as a string.\n",
    "    \"\"\"\n",
    "    # Extract LSBs and convert them to characters\n",
    "    bytes_extracted = extract_LSB_from_File(filename)\n",
    "    chars_extracted = convert_LSB_Bytes_to_Chars(bytes_extracted)\n",
    "    # Join the character list into a single string\n",
    "    return \"\".join(chars_extracted)"
   ]
  },
  {
   "cell_type": "markdown",
   "id": "a23f89f9-7e56-4780-a2e1-206b2a11cf6f",
   "metadata": {},
   "source": [
    "## 9 Embed and Recover Hidden Messages\n",
    "The SECRET_MESSAGE variable holds the message \"Father Christmas does not exist\" that you want to embed into an audio file. \n",
    "The encode_File function is invoked, embedding the SECRET_MESSAGE into the SOURCE_FILE. \n",
    "This creates a new audio file, MODIFIED_FILE, where the message is hidden using the least significant bit (LSB) method. \n",
    "The decode_File function extracts the hidden message from the MODIFIED_FILE. It uses the LSB extraction and conversion techniques to reconstruct the original message.\n",
    "Finally, the code prints the extracted hidden message to the console, confirming the process's success.\n"
   ]
  },
  {
   "cell_type": "code",
   "execution_count": 9,
   "id": "24e939d6-3eb1-4945-bc75-8558dd7c4912",
   "metadata": {},
   "outputs": [
    {
     "name": "stdout",
     "output_type": "stream",
     "text": [
      "Hidden message: Father Christmas does not exist\n"
     ]
    }
   ],
   "source": [
    "# Secret message to be encoded in the audio file\n",
    "SECRET_MESSAGE = 'Father Christmas does not exist'\n",
    "\n",
    "# Source and modified file names\n",
    "SOURCE_FILE = \"Ex3_sound5.wav\"\n",
    "MODIFIED_FILE = \"modified_\" + SOURCE_FILE\n",
    "\n",
    "# Encode the secret message into the source audio file\n",
    "encode_File(SOURCE_FILE, SECRET_MESSAGE, MODIFIED_FILE)\n",
    "\n",
    "# Decode the message from the modified audio file\n",
    "decoded = decode_File(MODIFIED_FILE)\n",
    "\n",
    "# Print the hidden message\n",
    "print(f'Hidden message: {decoded}')"
   ]
  },
  {
   "cell_type": "markdown",
   "id": "5ac086ea-1ae7-4ebc-bdf9-fac4b5674a23",
   "metadata": {},
   "source": [
    "# End of code personally written without assistance"
   ]
  },
  {
   "cell_type": "code",
   "execution_count": null,
   "id": "ac15e5b4-ebd0-4b77-87a4-11df9216074c",
   "metadata": {},
   "outputs": [],
   "source": []
  }
 ],
 "metadata": {
  "kernelspec": {
   "display_name": "Python 3 (ipykernel)",
   "language": "python",
   "name": "python3"
  },
  "language_info": {
   "codemirror_mode": {
    "name": "ipython",
    "version": 3
   },
   "file_extension": ".py",
   "mimetype": "text/x-python",
   "name": "python",
   "nbconvert_exporter": "python",
   "pygments_lexer": "ipython3",
   "version": "3.8.18"
  }
 },
 "nbformat": 4,
 "nbformat_minor": 5
}
